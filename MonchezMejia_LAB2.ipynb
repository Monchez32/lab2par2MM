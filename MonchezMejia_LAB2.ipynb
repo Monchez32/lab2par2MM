{
  "nbformat": 4,
  "nbformat_minor": 0,
  "metadata": {
    "colab": {
      "name": "MonchezMejia_LAB2",
      "provenance": [],
      "authorship_tag": "ABX9TyMbMBK2ahiAQxXsHr3qBHxP",
      "include_colab_link": true
    },
    "kernelspec": {
      "name": "python3",
      "display_name": "Python 3"
    }
  },
  "cells": [
    {
      "cell_type": "markdown",
      "metadata": {
        "id": "view-in-github",
        "colab_type": "text"
      },
      "source": [
        "<a href=\"https://colab.research.google.com/github/Monchez32/lab2par2MM/blob/desarrollo1/MonchezMejia_LAB2.ipynb\" target=\"_parent\"><img src=\"https://colab.research.google.com/assets/colab-badge.svg\" alt=\"Open In Colab\"/></a>"
      ]
    },
    {
      "cell_type": "code",
      "metadata": {
        "id": "pFuwTebcPbo7"
      },
      "source": [
        "import numpy as np\n",
        "import time"
      ],
      "execution_count": 11,
      "outputs": []
    },
    {
      "cell_type": "code",
      "metadata": {
        "id": "5-IK5Un0RG2x"
      },
      "source": [
        "archivo = urllib.urlopen('https://people.sugarlabs.org/ignacio/Python/python+3.pdf')\n",
        "for linea in archivo.readlines():\n",
        "  print(linea)\n",
        "  archivo.close()"
      ],
      "execution_count": null,
      "outputs": []
    },
    {
      "cell_type": "code",
      "metadata": {
        "id": "5ElyrdNYRJkC"
      },
      "source": [
        "archivo = open(\"hello.txt\", “r”)\n",
        "for linea in archivo.readlines():\n",
        "print linea\n",
        "archivo.close()"
      ],
      "execution_count": null,
      "outputs": []
    }
  ]
}